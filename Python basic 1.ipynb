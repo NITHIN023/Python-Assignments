{
 "cells": [
  {
   "cell_type": "raw",
   "id": "427eb36e",
   "metadata": {},
   "source": [
    "1. In the below elements which of them are values or an expression? eg:- values can be\n",
    "integer or string and expressions will be mathematical operators."
   ]
  },
  {
   "cell_type": "raw",
   "id": "0a0d9f01",
   "metadata": {},
   "source": [
    "*        = Mathematical operator(Multiplication)\n",
    "'hello'  = String(Text)\n",
    "-87.8    = Float (Decimal number)\n",
    "-        = Mathematical operator(Subraction)\n",
    "/        = Mathematical operator(Division)\n",
    "+        = Mathematical operator(Addition)\n",
    "6        = Integer(int) or Number"
   ]
  },
  {
   "cell_type": "raw",
   "id": "aeb1b2e3",
   "metadata": {},
   "source": [
    "2. What is the difference between string and variable?\n",
    "   String: String is a data type used for characters \n",
    "   Variable: Is used to store the data type such as string, int, float, boolean"
   ]
  },
  {
   "cell_type": "raw",
   "id": "32bb6978",
   "metadata": {},
   "source": [
    "3. Describe three different data types.\n",
    "   String : Used to store the characters\n",
    "   Int    : Used to store the Whole  Numbers\n",
    "   Float  : Used to store the Decimal numbers\n",
    "   Boolean: Used to store the True and False value"
   ]
  },
  {
   "cell_type": "raw",
   "id": "4a95afc6",
   "metadata": {},
   "source": [
    "4. What is an expression made up of? What do all expressions do?   \n",
    "   An expression is made up of operators and operands. An expression performs the operation and comes to conclusion or give        result."
   ]
  },
  {
   "cell_type": "raw",
   "id": "dea81402",
   "metadata": {},
   "source": [
    "5. This assignment statements, like spam = 10. What is the difference between an\n",
    "expression and a statement?\n",
    "   Expreession : Expression is executable operations and operands for the program\n",
    "   Statement   : The executable/readable codes of a program"
   ]
  },
  {
   "cell_type": "raw",
   "id": "31d1e055",
   "metadata": {},
   "source": [
    "6. After running the following code, what does the variable bacon contain?\n",
    "bacon = 22\n",
    "bacon + 1\n",
    "   bacon = 22"
   ]
  },
  {
   "cell_type": "raw",
   "id": "ad74d42e",
   "metadata": {},
   "source": [
    "7. What should the values of the following two terms be?\n",
    "'spam' + 'spamspam' =spamspamspam\n",
    "'spam' * 3          =spamspamspam"
   ]
  },
  {
   "cell_type": "raw",
   "id": "5758c9d7",
   "metadata": {},
   "source": [
    "8. Why is eggs a valid variable name while 100 is invalid?\n",
    "   eggs is valid because it follows identifier rules\n",
    "   100 is invalid because a variable cannot start with a number\n"
   ]
  },
  {
   "cell_type": "raw",
   "id": "1fc945e2",
   "metadata": {},
   "source": [
    "9. What three functions can be used to get the integer, floating-point number, or string\n",
    "version of a value?\n",
    "  integer  = int() \n",
    "  floating-point number = float()\n",
    "  string   = str()"
   ]
  },
  {
   "cell_type": "raw",
   "id": "ad04c154",
   "metadata": {},
   "source": [
    "10. Why does this expression cause an error? How can you fix it?\n",
    "'I have eaten' + 99 +  'burritos'.\n",
    "   Adding of integer to string is not allowed\n",
    "   Using f string\n",
    "   print(f\"'I have eaten' + 99 +  'burritos'\")\n",
    "   or conversion of data type from int to str\n",
    "   \n"
   ]
  },
  {
   "cell_type": "code",
   "execution_count": 15,
   "id": "d3879f7c",
   "metadata": {},
   "outputs": [
    {
     "name": "stdout",
     "output_type": "stream",
     "text": [
      "I have eaten 99 burritos\n"
     ]
    }
   ],
   "source": [
    "print(\"I have eaten \" +  str(99 ) +  \" burritos\")"
   ]
  },
  {
   "cell_type": "code",
   "execution_count": null,
   "id": "dd2dbf82",
   "metadata": {},
   "outputs": [],
   "source": []
  }
 ],
 "metadata": {
  "kernelspec": {
   "display_name": "Python 3 (ipykernel)",
   "language": "python",
   "name": "python3"
  },
  "language_info": {
   "codemirror_mode": {
    "name": "ipython",
    "version": 3
   },
   "file_extension": ".py",
   "mimetype": "text/x-python",
   "name": "python",
   "nbconvert_exporter": "python",
   "pygments_lexer": "ipython3",
   "version": "3.9.7"
  }
 },
 "nbformat": 4,
 "nbformat_minor": 5
}
